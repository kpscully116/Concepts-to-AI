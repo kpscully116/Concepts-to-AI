{
 "cells": [
  {
   "cell_type": "markdown",
   "id": "9a0e1272-b752-4e3d-9d39-3f316209673e",
   "metadata": {},
   "source": [
    "# Question\n",
    "  Using the graph on the previous page, find a route from Tipperary to Sligo, using the following\r\n",
    " path- finding approaches implement both algorithms programmatically and compare the solutions\r\n",
    " generated in Mark-up (Note additional marks for including time statistics\n",
    "\n",
    " 1. Either depth-first search or breadth-first se\n",
    "\r\n",
    " 2. Dijkstra’s algo\n",
    "]\r\n",
    "  3 . TheA*alg marks]"
   ]
  },
  {
   "cell_type": "markdown",
   "id": "c81778b0-c640-48dc-ae50-c3bc6887394b",
   "metadata": {},
   "source": [
    "# Mark-up Analysis\n",
    "\n",
    "The depth first approach took the longest route to find the destination of Sligo, taken 936km. \n",
    "This was beacuse it goes as deep as possible along one branch until it reaches it's goal.\n",
    "\n",
    "The Dijkstra and A* Algorithm had the same result at 295 km. \n",
    "Both algorithms are conducted differently but both found the optimal route. \n",
    "\n",
    "\n",
    "Depth First Approach:\n",
    "Path found: TIPPERARY -> LIMERICK -> KILLARNEY -> CORK -> WATERFORD -> WEXFORD -> DUBLIN -> DUNDALK -> BELFAST -> SLIGO\r\n",
    "Total distance: 936 km\r\n",
    "Time taken: 0 nanosecondsjkstra ApproaPath found: TIPPERARY -> LIMERICK -> GALWAY -> CASTLEBAR -> SLIGO\r\n",
    "Total distance: 295 km\r\n",
    "Time taken: 0 nanosecondsch:\n",
    "\n",
    "\n",
    "A* A\n",
    "Path found: TIPPERARY -> LIMERICK -> GALWAY -> CASTLEBAR -> SLIGO\r\n",
    "Total distance: 295 km\r\n",
    "Time taken: 0 nanosecondslgorithm"
   ]
  },
  {
   "cell_type": "markdown",
   "id": "22b0b61d-e81b-4152-9c61-deaf4802ad88",
   "metadata": {},
   "source": [
    "# Depth-First Search Algorithm (DFS)"
   ]
  },
  {
   "cell_type": "code",
   "execution_count": 1,
   "id": "f10dca17-bcb6-4b4b-9665-d5b910ee7786",
   "metadata": {},
   "outputs": [],
   "source": [
    "# Depth-First Search Algorithm (DFS)\n",
    "graph = {\n",
    "    \"LETTERKENNY\": {\"SLIGO\": 133},\n",
    "    \"SLIGO\": {\"LETTERKENNY\": 133, \"BELFAST\": 214, \"CASTLEBAR\": 67},\n",
    "    \"BELFAST\": {\"SLIGO\": 214, \"DUNDALK\": 83},\n",
    "    \"CASTLEBAR\": {\"SLIGO\": 67, \"GALWAY\": 77},\n",
    "    \"DUNDALK\": {\"BELFAST\": 83, \"DUBLIN\": 81},\n",
    "    \"GALWAY\": {\"CASTLEBAR\": 77, \"ATHLONE\": 85, \"LIMERICK\": 112},\n",
    "    \"ATHLONE\": {\"GALWAY\": 85, \"DUBLIN\": 124, \"TIPPERARY\": 126},\n",
    "    \"DUBLIN\": {\"DUNDALK\": 81, \"WEXFORD\": 141, \"CARLOW\": 90, \"ATHLONE\": 124},\n",
    "    \"LIMERICK\": {\"TIPPERARY\": 39, \"KILLARNEY\": 110, \"GALWAY\": 112},\n",
    "    \"TIPPERARY\": {\"LIMERICK\": 39, \"ATHLONE\": 126, \"WATERFORD\": 89},\n",
    "    \"CARLOW\": {\"DUBLIN\": 90, \"WATERFORD\": 80},\n",
    "    \"WATERFORD\": {\"WEXFORD\": 59, \"CARLOW\": 80, \"TIPPERARY\": 89, \"CORK\": 121},\n",
    "    \"WEXFORD\": {\"WATERFORD\": 59, \"DUBLIN\": 141},\n",
    "    \"KILLARNEY\": {\"CORK\": 88, \"LIMERICK\": 110},\n",
    "    \"CORK\": {\"KILLARNEY\": 88, \"WATERFORD\": 121}\n",
    "}"
   ]
  },
  {
   "cell_type": "code",
   "execution_count": 3,
   "id": "f6164454-bfe1-472d-94fe-5db5c7d4f965",
   "metadata": {},
   "outputs": [],
   "source": [
    "import time as time\n",
    "\n",
    "#Track visited places and path in below function\n",
    "def dfs(graph, current_node, goal, visited, path, current_distance):\n",
    "    visited.add(current_node)\n",
    "    path.append(current_node)\n",
    "   \n",
    "    # If we reached the goal, return the path and the total distance\n",
    "    if current_node == goal:\n",
    "        return path, current_distance\n",
    "   \n",
    "    # Explore each place\n",
    "    for neighbor, weight in graph.get(current_node, {}).items():\n",
    "        if neighbor not in visited:\n",
    "            # Go to the next node, accumulate the distance\n",
    "            result = dfs(graph, neighbor, goal, visited, path[:], current_distance + weight)\n",
    "            if result:  # If the path to goal is found, return it\n",
    "                return result\n",
    "  \n",
    "    # If no path is found, return None\n",
    "    return None"
   ]
  },
  {
   "cell_type": "code",
   "execution_count": 4,
   "id": "c49c7034-fbc9-4a75-a71e-e6769300a344",
   "metadata": {},
   "outputs": [],
   "source": [
    "# Function to measure the time for DFS search\n",
    "def find_route(graph, start, goal):\n",
    "    dfs_start_time = time.time_ns()\n",
    "   \n",
    "    # Perform DFS to find the path\n",
    "    path, distance = dfs(graph, start, goal, set(),[],0)\n",
    "   \n",
    "    dfs_end_time = time.time_ns()\n",
    "    dfs_elapsed_time = dfs_end_time - dfs_start_time\n",
    "   \n",
    "    return path, distance, dfs_elapsed_time"
   ]
  },
  {
   "cell_type": "code",
   "execution_count": 5,
   "id": "3cb12346-dd0c-41e9-9e3b-ab87731a4976",
   "metadata": {},
   "outputs": [],
   "source": [
    "# Runn DFS from Tipperary to Sligo\n",
    "start = \"TIPPERARY\"\n",
    "goal = \"SLIGO\"\n",
    "path, distance, dfs_elapsed_time = find_route(graph, start, goal)"
   ]
  },
  {
   "cell_type": "code",
   "execution_count": 9,
   "id": "be791049-1db4-45b7-a3e4-1fb5d86ab550",
   "metadata": {},
   "outputs": [
    {
     "name": "stdout",
     "output_type": "stream",
     "text": [
      "Path found: TIPPERARY -> LIMERICK -> KILLARNEY -> CORK -> WATERFORD -> WEXFORD -> DUBLIN -> DUNDALK -> BELFAST -> SLIGO\n",
      "Total distance: 936 km\n",
      "Time taken: 0 nanoseconds\n"
     ]
    }
   ],
   "source": [
    "# Print result\n",
    "if path:\n",
    "    print(f\"Path found: {' -> '.join(path)}\")\n",
    "    print(f\"Total distance: {distance} km\")\n",
    "else:\n",
    "    print(\"No path found.\")\n",
    "   \n",
    "print(f\"Time taken: {dfs_elapsed_time} nanoseconds\")"
   ]
  },
  {
   "cell_type": "markdown",
   "id": "f8571d55-df83-4463-984a-f9ff6b346ea7",
   "metadata": {},
   "source": [
    "# dijkstra algorithm"
   ]
  },
  {
   "cell_type": "code",
   "execution_count": 12,
   "id": "a522180a-d638-4f32-9f37-c0bdc9169c0e",
   "metadata": {},
   "outputs": [],
   "source": [
    "# dijkstra algorithm\n",
    "\n",
    "import heapq as heapq \n",
    "\n",
    "def dijkstra(graph, start, goal):\n",
    "    queue = [(0, start)]  \n",
    "    # Store the shortest distance to each place\n",
    "    shortest_paths = {start: (None, 0)}  \n",
    "    while queue:\n",
    "        # Pop the place with the smallest distance\n",
    "        current_distance, current_node = heapq.heappop(queue)\n",
    "        if current_node == goal: #reconstruct the path\n",
    "            path = []\n",
    "            while current_node is not None:\n",
    "                path.append(current_node)\n",
    "                current_node = shortest_paths[current_node][0]\n",
    "            path.reverse()\n",
    "            return path, current_distance\n",
    "       \n",
    "        # Explore the neighbors of the current place\n",
    "        for neighbor, weight in graph.get(current_node, {}).items():\n",
    "            distance = current_distance + weight\n",
    "            if neighbor not in shortest_paths or distance < shortest_paths[neighbor][1]:\n",
    "                shortest_paths[neighbor] = (current_node, distance)\n",
    "                heapq.heappush(queue, (distance, neighbor))\n",
    "   \n",
    "    return None, float(\"inf\")"
   ]
  },
  {
   "cell_type": "code",
   "execution_count": 14,
   "id": "75ad6d8a-bde9-41f9-9443-d9ff75c6a3b6",
   "metadata": {},
   "outputs": [],
   "source": [
    "# Function to measure time for Dijkstra's algorithm\n",
    "def find_route(graph, start, goal):\n",
    "    dj_start_time = time.time_ns()  # Start time in nanoseconds\n",
    "   \n",
    "    # Perform Dijkstra's algorithm to find the path\n",
    "    path, distance = dijkstra(graph, start, goal)\n",
    "   \n",
    "    dj_end_time = time.time_ns()  # End time in nanoseconds\n",
    "    dj_elapsed_time = dj_end_time - dj_start_time  # Elapsed time in nanoseconds\n",
    "   \n",
    "    return path, distance, dj_elapsed_time"
   ]
  },
  {
   "cell_type": "code",
   "execution_count": 16,
   "id": "b962c912-f5a6-4e96-bef4-8d07f72ae2dd",
   "metadata": {},
   "outputs": [],
   "source": [
    "# Running Dijkstra's algorithm from Tipperary to Sligo\n",
    "start = \"TIPPERARY\"\n",
    "goal = \"SLIGO\"\n",
    "path, distance, dj_elapsed_time = find_route(graph, start, goal)"
   ]
  },
  {
   "cell_type": "code",
   "execution_count": 18,
   "id": "bd3ea422-231d-4521-90d6-386a7450c705",
   "metadata": {},
   "outputs": [
    {
     "name": "stdout",
     "output_type": "stream",
     "text": [
      "Path found: TIPPERARY -> LIMERICK -> GALWAY -> CASTLEBAR -> SLIGO\n",
      "Total distance: 295 km\n",
      "Time taken: 0 nanoseconds\n"
     ]
    }
   ],
   "source": [
    "# Output the result\n",
    "if path:\n",
    "    print(f\"Path found: {' -> '.join(path)}\")\n",
    "    print(f\"Total distance: {distance} km\")\n",
    "else:\n",
    "    print(\"No path found.\")\n",
    "   \n",
    "print(f\"Time taken: {dj_elapsed_time} nanoseconds\")"
   ]
  },
  {
   "cell_type": "markdown",
   "id": "8a7e7eae-97aa-4056-b496-5850ad0258de",
   "metadata": {},
   "source": [
    "# The A* algorithm "
   ]
  },
  {
   "cell_type": "code",
   "execution_count": 21,
   "id": "b308ea4e-8c69-4031-9061-e5add153d3dd",
   "metadata": {},
   "outputs": [],
   "source": [
    "# Use a function so distances can be defined as the Heuristic function\n",
    "def heuristic(node, goal, graph):\n",
    "    if node not in graph:\n",
    "        return 0  \n",
    "    return min(graph[node].values())"
   ]
  },
  {
   "cell_type": "code",
   "execution_count": 23,
   "id": "eac234ff-684e-4d84-ae35-f15990c71bec",
   "metadata": {},
   "outputs": [],
   "source": [
    "# A* Algorithm \n",
    "def astar(graph, start, goal):\n",
    "    # queue to store the places to be explored \n",
    "    open_list = []\n",
    "    heapq.heappush(open_list, (0, start))  # (f-score, node)\n",
    "   \n",
    "    # store g-scores (actual cost) and parents\n",
    "    g_scores = {start: 0}\n",
    "    parents = {start: None}\n",
    "   \n",
    "    # places to explore\n",
    "    while open_list:\n",
    "        _, current_node = heapq.heappop(open_list)  \n",
    "       \n",
    "        # If we reached the goal, reconstruct the path\n",
    "        if current_node == goal:\n",
    "            path = []\n",
    "            total_distance = g_scores[current_node]\n",
    "            while current_node is not None:\n",
    "                path.append(current_node)\n",
    "                current_node = parents[current_node]\n",
    "            path.reverse()  \n",
    "            return path, total_distance\n",
    "       \n",
    "        # Explore neighbors\n",
    "        for neighbor, weight in graph.get(current_node, {}).items():\n",
    "            tentative_g_score = g_scores[current_node] + weight\n",
    "            if neighbor not in g_scores or tentative_g_score < g_scores[neighbor]:\n",
    "                g_scores[neighbor] = tentative_g_score\n",
    "                f_score = tentative_g_score + heuristic(neighbor, goal, graph)  # f(n) = g(n) + h(n)\n",
    "                parents[neighbor] = current_node\n",
    "                heapq.heappush(open_list, (f_score, neighbor)) \n",
    "   \n",
    "    return None, float(\"inf\")  "
   ]
  },
  {
   "cell_type": "code",
   "execution_count": 25,
   "id": "b457e6d8-4f9e-48ac-8258-526758c2de5b",
   "metadata": {},
   "outputs": [],
   "source": [
    "# Function to measure time for A* algorithm\n",
    "def find_route(graph, start, goal):\n",
    "    start_time_ns = time.time_ns()  \n",
    "   \n",
    "    # Perform A* algorithm to find the path\n",
    "    path, distance = astar(graph, start, goal)\n",
    "   \n",
    "    end_time_ns = time.time_ns()  \n",
    "    elapsed_time_ns = end_time_ns - start_time_ns  #\n",
    "   \n",
    "    return path, distance, elapsed_time_ns"
   ]
  },
  {
   "cell_type": "code",
   "execution_count": 27,
   "id": "26d1fcdf-e0d1-4b50-8b14-99aaa4c97fc3",
   "metadata": {},
   "outputs": [],
   "source": [
    "# Running A* algorithm \n",
    "start = \"TIPPERARY\"\n",
    "goal = \"SLIGO\"\n",
    "path, distance, elapsed_time_ns = find_route(graph, start, goal)\n"
   ]
  },
  {
   "cell_type": "code",
   "execution_count": 29,
   "id": "7b08376d-8c1b-44b6-af4d-56ac1423b9f7",
   "metadata": {},
   "outputs": [
    {
     "name": "stdout",
     "output_type": "stream",
     "text": [
      "Path found: TIPPERARY -> LIMERICK -> GALWAY -> CASTLEBAR -> SLIGO\n",
      "Total distance: 295 units\n",
      "Time taken: 0 nanoseconds\n"
     ]
    }
   ],
   "source": [
    "#Output the result\n",
    "if path:\n",
    "    print(f\"Path found: {' -> '.join(path)}\")\n",
    "    print(f\"Total distance: {distance} units\")\n",
    "else:\n",
    "    print(\"No path found.\")\n",
    "   \n",
    "print(f\"Time taken: {elapsed_time_ns} nanoseconds\")"
   ]
  }
 ],
 "metadata": {
  "kernelspec": {
   "display_name": "Python 3 (ipykernel)",
   "language": "python",
   "name": "python3"
  },
  "language_info": {
   "codemirror_mode": {
    "name": "ipython",
    "version": 3
   },
   "file_extension": ".py",
   "mimetype": "text/x-python",
   "name": "python",
   "nbconvert_exporter": "python",
   "pygments_lexer": "ipython3",
   "version": "3.12.4"
  }
 },
 "nbformat": 4,
 "nbformat_minor": 5
}
