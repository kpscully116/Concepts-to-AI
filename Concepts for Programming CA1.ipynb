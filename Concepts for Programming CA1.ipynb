{
 "cells": [
  {
   "cell_type": "markdown",
   "id": "9a0e1272-b752-4e3d-9d39-3f316209673e",
   "metadata": {},
   "source": [
    "\n",
    " Using the graph on the previous page, find a route from Tipperary to Sligo, using the following\r\n",
    " path- finding approaches implement both algorithms programmatically and compare the solutions\r\n",
    " generated in Mark-up (Note additional marks for including time statistics\n",
    "\n",
    " 1. Either depth-first search or breadth-first se\n",
    "\r\n",
    " 2. Dijkstra’s algo\n",
    "]\r\n",
    "  3 . TheA*alg marks]"
   ]
  },
  {
   "cell_type": "code",
   "execution_count": null,
   "id": "4a80414d-9b89-4762-9a23-425624746df6",
   "metadata": {},
   "outputs": [],
   "source": [
    "# Depth-first search\n"
   ]
  }
 ],
 "metadata": {
  "kernelspec": {
   "display_name": "Python 3 (ipykernel)",
   "language": "python",
   "name": "python3"
  },
  "language_info": {
   "codemirror_mode": {
    "name": "ipython",
    "version": 3
   },
   "file_extension": ".py",
   "mimetype": "text/x-python",
   "name": "python",
   "nbconvert_exporter": "python",
   "pygments_lexer": "ipython3",
   "version": "3.12.4"
  }
 },
 "nbformat": 4,
 "nbformat_minor": 5
}
